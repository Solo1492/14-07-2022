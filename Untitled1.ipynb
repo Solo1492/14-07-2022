{
  "nbformat": 4,
  "nbformat_minor": 0,
  "metadata": {
    "colab": {
      "name": "Untitled1.ipynb",
      "provenance": [],
      "authorship_tag": "ABX9TyMQQ2NaLWYhXiTH6xJc0m7b",
      "include_colab_link": true
    },
    "kernelspec": {
      "name": "python3",
      "display_name": "Python 3"
    },
    "language_info": {
      "name": "python"
    }
  },
  "cells": [
    {
      "cell_type": "markdown",
      "metadata": {
        "id": "view-in-github",
        "colab_type": "text"
      },
      "source": [
        "<a href=\"https://colab.research.google.com/github/Solo1492/14-07-2022/blob/main/Untitled1.ipynb\" target=\"_parent\"><img src=\"https://colab.research.google.com/assets/colab-badge.svg\" alt=\"Open In Colab\"/></a>"
      ]
    },
    {
      "cell_type": "code",
      "execution_count": 24,
      "metadata": {
        "colab": {
          "base_uri": "https://localhost:8080/"
        },
        "id": "Xgeb1JIomur8",
        "outputId": "bcb5e7ac-5987-4d2e-dfbb-8c7849f68c3d"
      },
      "outputs": [
        {
          "output_type": "stream",
          "name": "stdout",
          "text": [
            "Code: Enter Operation \n",
            "1.Add\n",
            "2.Subtract\n",
            "3.Multiply\n",
            "4.Divide\n",
            "Enter Operation Code 1/2/3/4 -> 1\n",
            "Enter first number :2\n",
            "Enter second number :3\n",
            "2.0 + 3.0 = 5.0\n",
            "Do you wish to continue? (yes/no) :no\n",
            "Sorry to see you go :(\n"
          ]
        }
      ],
      "source": [
        "def add(x,y):\n",
        "    return x+y\n",
        "\n",
        "def subtract(x,y):  \n",
        "    return x-y\n",
        "\n",
        "def multiplication(x,y):\n",
        "    return x*y\n",
        "\n",
        "def division(x,y):\n",
        "    return x/y\n",
        "\n",
        "print(\"Code: Enter Operation \")\n",
        "print(\"1.Add\")\n",
        "print(\"2.Subtract\")\n",
        "print(\"3.Multiply\")\n",
        "print(\"4.Divide\")\n",
        "\n",
        "while True:\n",
        "    choice = input(\"Enter Operation Code 1/2/3/4 -> \")\n",
        "    if choice in ('1','2','3','4'):\n",
        "      x= float(input(\"Enter first number :\"))         #'x' is first number\n",
        "      y= float(input(\"Enter second number :\"))        #'y' is the second number  \n",
        "\n",
        "    if choice == '1':\n",
        "      print(x,\"+\",y,\"=\",add(x,y))\n",
        "    elif choice == '2':\n",
        "      print(x,\"-\",y,\"=\",subtract(x,y))\n",
        "    elif choice == '3':\n",
        "      print(x,\"X\",y,\"=\",multiplication(x,y))\n",
        "    elif choice == 4:\n",
        "      print(x,\"÷\",y,\"=\",division(x,y))\n",
        "    \n",
        "    next_calculation= input(\"Do you wish to continue? (yes/no) :\")\n",
        "    if next_calculation == \"yes\":\n",
        "      print(\"Woohoo! let's continue!\")\n",
        "      \n",
        "    elif next_calculation == \"no\":\n",
        "       print(\"Sorry to see you go :(\")\n",
        "       break"
      ]
    }
  ]
}